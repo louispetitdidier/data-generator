{
  "nbformat": 4,
  "nbformat_minor": 0,
  "metadata": {
    "colab": {
      "provenance": []
    },
    "kernelspec": {
      "name": "python3",
      "display_name": "Python 3"
    },
    "language_info": {
      "name": "python"
    }
  },
  "cells": [
    {
      "cell_type": "markdown",
      "source": [
        "#Data Generator Using Faker"
      ],
      "metadata": {
        "id": "jrhDzIcvyXH1"
      }
    },
    {
      "cell_type": "code",
      "execution_count": 19,
      "metadata": {
        "id": "6NnrCCvgxc2V",
        "colab": {
          "base_uri": "https://localhost:8080/"
        },
        "outputId": "4ab9a111-4e7d-4ee4-995d-f7d15b9ddcd4"
      },
      "outputs": [
        {
          "output_type": "stream",
          "name": "stdout",
          "text": [
            "Requirement already satisfied: faker in /usr/local/lib/python3.11/dist-packages (37.0.0)\n",
            "Requirement already satisfied: tzdata in /usr/local/lib/python3.11/dist-packages (from faker) (2025.1)\n"
          ]
        }
      ],
      "source": [
        "!pip install faker\n",
        "from faker import Faker\n",
        "import random\n",
        "import time\n",
        "from datetime import datetime\n",
        "import uuid"
      ]
    },
    {
      "cell_type": "markdown",
      "source": [
        "The following function creates a schema which simulates a passenger requesting a ride which has the pickup details, destination details, what kind of ride was requested, whats the current status of the request, who the passenger is, and the amount of time has passed since the passenger made the request(in milliseconds)"
      ],
      "metadata": {
        "id": "L8vtMMXsyd_6"
      }
    },
    {
      "cell_type": "code",
      "source": [
        "fake = Faker()\n",
        "\n",
        "def generate_ride_request():\n",
        "    return {\n",
        "        \"request_id\": str(uuid.uuid4()),\n",
        "        \"passenger_id\": str(uuid.uuid4()),\n",
        "        \"pickup_lat\": fake.latitude(),\n",
        "        \"pickup_lng\": fake.longitude(),\n",
        "        \"destination_lat\": fake.latitude(),\n",
        "        \"destination_lng\": fake.longitude(),\n",
        "        \"ride_type\": random.choice([\"standard\", \"premium\", \"pool\"]),\n",
        "        \"status\": random.choice([\"requested\", \"cancelled\", \"accepted\", \"completed\"]),\n",
        "        \"estimate_price\": round(random.uniform(5, 50), 2),  # Random price between $5 and $50\n",
        "        \"demand_level\": random.choice([\"high\", \"low\"]),\n",
        "        \"estimated_distance_km\": round(random.uniform(1, 20), 2),  # Distance in km\n",
        "        \"datetime\": datetime.now().isoformat()  # Current timestamp in ISO format\n",
        "    }\n",
        "\n",
        "# Example usage\n",
        "print(generate_ride_request())"
      ],
      "metadata": {
        "colab": {
          "base_uri": "https://localhost:8080/"
        },
        "id": "2gbJQ_wgxrCz",
        "outputId": "bf20f3ab-9865-41c4-fdc3-ae3aaa4aeb4a"
      },
      "execution_count": 17,
      "outputs": [
        {
          "output_type": "stream",
          "name": "stdout",
          "text": [
            "{'request_id': 'c842bcf3-fc93-48f7-a412-71efce516cba', 'passenger_id': 'e3387121-0b80-4278-b7bf-b5582946ab11', 'pickup_lat': Decimal('-52.6492425'), 'pickup_lng': Decimal('35.388465'), 'destination_lat': Decimal('-79.204484'), 'destination_lng': Decimal('175.389551'), 'ride_type': 'premium', 'status': 'cancelled', 'estimate_price': 42.03, 'demand_level': 'high', 'estimated_distance_km': 3.07, 'datetime': '2025-03-15T20:45:45.289243'}\n"
          ]
        }
      ]
    },
    {
      "cell_type": "markdown",
      "source": [
        "The following functions creates a schema which simulates when a driver current status such as their current location, their availability, what kind of vehicle their driving and the time it took to capture their status."
      ],
      "metadata": {
        "id": "PY8ifzIh0v7b"
      }
    },
    {
      "cell_type": "code",
      "source": [
        "def generate_driver_status():\n",
        "    return {\n",
        "        \"driver_id\": str(uuid.uuid4()),\n",
        "        \"current_lat\": fake.latitude(),\n",
        "        \"current_lng\": fake.longitude(),\n",
        "        \"status\": random.choice([\"available\", \"en_route\", \"on_trip\", \"offline\"]),\n",
        "        \"vehicle_type\": random.choice([\"sedan\", \"SUV\", \"motorbike\", \"uber\", \"lyft\", \"cabify\"]),\n",
        "        \"timestamp\": datetime.now().isoformat()\n",
        "    }\n",
        "\n",
        "# Example usage\n",
        "print(generate_driver_status())\n"
      ],
      "metadata": {
        "colab": {
          "base_uri": "https://localhost:8080/"
        },
        "id": "dedX6CRlx9JN",
        "outputId": "21f2b10a-b848-40fd-ed11-6bacc3fa082a"
      },
      "execution_count": 18,
      "outputs": [
        {
          "output_type": "stream",
          "name": "stdout",
          "text": [
            "{'driver_id': '2eda4535-612d-4018-af38-190d6dda2593', 'current_lat': Decimal('68.1452835'), 'current_lng': Decimal('32.209480'), 'status': 'on_trip', 'vehicle_type': 'uber', 'timestamp': '2025-03-15T20:45:47.543798'}\n"
          ]
        }
      ]
    },
    {
      "cell_type": "markdown",
      "source": [
        "Here we generate 10 passenger requests and 10 driver status updates:"
      ],
      "metadata": {
        "id": "GUMtMEev2Up6"
      }
    },
    {
      "cell_type": "code",
      "source": [
        "# Generate 10 ride requests\n",
        "ride_requests = [generate_ride_request() for _ in range(10)]\n",
        "\n",
        "# Generate 10 driver status updates\n",
        "driver_status_updates = [generate_driver_status() for _ in range(10)]\n",
        "\n",
        "print(ride_requests)\n",
        "print(driver_status_updates)\n"
      ],
      "metadata": {
        "colab": {
          "base_uri": "https://localhost:8080/"
        },
        "id": "uvKEkAGcyIVY",
        "outputId": "2034eadc-039f-4bf0-eb3a-a2d67406b339"
      },
      "execution_count": null,
      "outputs": [
        {
          "output_type": "stream",
          "name": "stdout",
          "text": [
            "[{'request_id': '23ab40b6-f343-44a9-baea-1b2a2fb7b8f1', 'passenger_id': '06dac076-96cb-4f22-90fa-2b48bd5671bd', 'pickup_lat': Decimal('55.276083'), 'pickup_lng': Decimal('150.346797'), 'destination_lat': Decimal('76.306982'), 'destination_lng': Decimal('-19.793847'), 'ride_type': 'standard', 'status': 'cancelled', 'estimate_price': 34.97, 'demand_level': 'low', 'estimated_distance_km': 8.08, 'datetime': '2025-03-12T15:57:15.419533'}, {'request_id': 'de30656c-07e7-4254-9fb5-bae989dbe553', 'passenger_id': 'ac17399d-fc09-420b-83a7-fd08fda1bec5', 'pickup_lat': Decimal('-83.6442335'), 'pickup_lng': Decimal('-137.210119'), 'destination_lat': Decimal('-9.405712'), 'destination_lng': Decimal('-13.547156'), 'ride_type': 'premium', 'status': 'accepted', 'estimate_price': 20.95, 'demand_level': 'low', 'estimated_distance_km': 4.39, 'datetime': '2025-03-12T15:57:15.419623'}, {'request_id': '3be3ad74-aff3-49da-a6f7-b5d6914aa395', 'passenger_id': '28baf15c-c173-4bcf-92b5-ce07a4698cf4', 'pickup_lat': Decimal('89.453555'), 'pickup_lng': Decimal('-155.158217'), 'destination_lat': Decimal('31.1201165'), 'destination_lng': Decimal('154.523987'), 'ride_type': 'pool', 'status': 'cancelled', 'estimate_price': 43.97, 'demand_level': 'low', 'estimated_distance_km': 5.92, 'datetime': '2025-03-12T15:57:15.419696'}, {'request_id': 'f6dc5347-410d-4ea2-8c0b-55ea59e64caa', 'passenger_id': '0ff2ea8e-e822-4983-aa1a-61500db9e162', 'pickup_lat': Decimal('84.3535275'), 'pickup_lng': Decimal('-49.584902'), 'destination_lat': Decimal('48.2994025'), 'destination_lng': Decimal('-29.006562'), 'ride_type': 'standard', 'status': 'accepted', 'estimate_price': 29.16, 'demand_level': 'low', 'estimated_distance_km': 16.99, 'datetime': '2025-03-12T15:57:15.419766'}, {'request_id': '8b504c72-0357-4ee3-8b3f-afdf60db0ca0', 'passenger_id': 'b8939d32-00d4-41b5-8cd7-7deeee4c6218', 'pickup_lat': Decimal('54.691539'), 'pickup_lng': Decimal('-115.324371'), 'destination_lat': Decimal('-18.614218'), 'destination_lng': Decimal('106.074473'), 'ride_type': 'pool', 'status': 'accepted', 'estimate_price': 39.95, 'demand_level': 'high', 'estimated_distance_km': 2.03, 'datetime': '2025-03-12T15:57:15.419832'}, {'request_id': 'b84acddb-4047-413a-af15-c56172f9b713', 'passenger_id': '9dca8bab-97bb-472f-aa55-43171a44640a', 'pickup_lat': Decimal('1.7940345'), 'pickup_lng': Decimal('21.782047'), 'destination_lat': Decimal('64.774581'), 'destination_lng': Decimal('-110.895329'), 'ride_type': 'premium', 'status': 'completed', 'estimate_price': 8.79, 'demand_level': 'low', 'estimated_distance_km': 6.33, 'datetime': '2025-03-12T15:57:15.419897'}, {'request_id': 'ebeb90fc-a051-4976-99b4-1b0c55cf475a', 'passenger_id': '88b1abb5-73a0-43d7-89b3-3b1453a0a1b0', 'pickup_lat': Decimal('80.502203'), 'pickup_lng': Decimal('-110.250810'), 'destination_lat': Decimal('25.2593795'), 'destination_lng': Decimal('92.043610'), 'ride_type': 'standard', 'status': 'accepted', 'estimate_price': 21.36, 'demand_level': 'high', 'estimated_distance_km': 5.35, 'datetime': '2025-03-12T15:57:15.419994'}, {'request_id': '9cbdc046-67b5-445a-a54a-b7e87aee059f', 'passenger_id': '0e39ce7b-251c-4c1d-b5f1-a352fdfeb30a', 'pickup_lat': Decimal('-61.7442885'), 'pickup_lng': Decimal('155.520362'), 'destination_lat': Decimal('25.607680'), 'destination_lng': Decimal('-99.055983'), 'ride_type': 'premium', 'status': 'requested', 'estimate_price': 45.47, 'demand_level': 'low', 'estimated_distance_km': 1.28, 'datetime': '2025-03-12T15:57:15.420066'}, {'request_id': '60d202e3-3bfd-4a81-a14b-5d1322ccbeee', 'passenger_id': 'ad937234-2c63-492c-8066-763810ef2ad1', 'pickup_lat': Decimal('38.036615'), 'pickup_lng': Decimal('-171.343266'), 'destination_lat': Decimal('18.3875855'), 'destination_lng': Decimal('48.610496'), 'ride_type': 'standard', 'status': 'cancelled', 'estimate_price': 27.15, 'demand_level': 'high', 'estimated_distance_km': 13.32, 'datetime': '2025-03-12T15:57:15.420365'}, {'request_id': '05998890-903e-487c-b68b-710a82759806', 'passenger_id': '34f328d0-771f-4576-8435-2cf62f343dce', 'pickup_lat': Decimal('-77.181679'), 'pickup_lng': Decimal('-93.189918'), 'destination_lat': Decimal('-14.504937'), 'destination_lng': Decimal('-95.382444'), 'ride_type': 'standard', 'status': 'completed', 'estimate_price': 28.88, 'demand_level': 'high', 'estimated_distance_km': 15.35, 'datetime': '2025-03-12T15:57:15.420452'}]\n",
            "[{'driver_id': '376b9528-f0ad-473c-85ee-7902d1ccb047', 'current_lat': Decimal('-67.8035235'), 'current_lng': Decimal('-68.588744'), 'status': 'on_trip', 'vehicle_type': 'cabify', 'timestamp': '2025-03-12T15:57:15.420664'}, {'driver_id': 'b3c4293a-7897-40b9-92ed-5f572b148d2f', 'current_lat': Decimal('40.294002'), 'current_lng': Decimal('-138.423088'), 'status': 'on_trip', 'vehicle_type': 'lyft', 'timestamp': '2025-03-12T15:57:15.420708'}, {'driver_id': 'a0bf5e6c-be17-4287-9013-9658223bd6f8', 'current_lat': Decimal('-25.494039'), 'current_lng': Decimal('-165.997906'), 'status': 'en_route', 'vehicle_type': 'sedan', 'timestamp': '2025-03-12T15:57:15.420751'}, {'driver_id': '3b6ed8a3-5407-4aed-abac-4a3e62d65472', 'current_lat': Decimal('-50.294326'), 'current_lng': Decimal('-39.212191'), 'status': 'available', 'vehicle_type': 'cabify', 'timestamp': '2025-03-12T15:57:15.420789'}, {'driver_id': '40f39f37-93da-453e-a096-c93c12afed11', 'current_lat': Decimal('87.236016'), 'current_lng': Decimal('-110.458726'), 'status': 'available', 'vehicle_type': 'uber', 'timestamp': '2025-03-12T15:57:15.420828'}, {'driver_id': 'ac77d980-81ec-44cb-8f18-d3fc475ee7fc', 'current_lat': Decimal('88.4370885'), 'current_lng': Decimal('-162.569231'), 'status': 'on_trip', 'vehicle_type': 'cabify', 'timestamp': '2025-03-12T15:57:15.420864'}, {'driver_id': '3020994b-f67a-4cbf-9b95-a0c3eb6592a1', 'current_lat': Decimal('40.9596995'), 'current_lng': Decimal('-146.018990'), 'status': 'available', 'vehicle_type': 'motorbike', 'timestamp': '2025-03-12T15:57:15.420902'}, {'driver_id': 'f74bcf43-d921-40ad-9825-86f8c00b47c7', 'current_lat': Decimal('-26.0166015'), 'current_lng': Decimal('173.277636'), 'status': 'on_trip', 'vehicle_type': 'cabify', 'timestamp': '2025-03-12T15:57:15.420965'}, {'driver_id': '3fa94696-bd3c-4c3b-91be-153c928f3a64', 'current_lat': Decimal('-75.0124545'), 'current_lng': Decimal('-158.867942'), 'status': 'available', 'vehicle_type': 'motorbike', 'timestamp': '2025-03-12T15:57:15.421002'}, {'driver_id': '59b58271-ac9f-4b67-b608-991b6715ee27', 'current_lat': Decimal('79.5777405'), 'current_lng': Decimal('50.061172'), 'status': 'en_route', 'vehicle_type': 'sedan', 'timestamp': '2025-03-12T15:57:15.421036'}]\n"
          ]
        }
      ]
    },
    {
      "cell_type": "markdown",
      "source": [
        "#Data Generator Using Mimesis"
      ],
      "metadata": {
        "id": "M7Ukxira2eSf"
      }
    },
    {
      "cell_type": "code",
      "source": [
        "!pip install mimesis\n",
        "from mimesis import Person, Datetime, Address, Transport\n",
        "import random\n",
        "import time\n",
        "from datetime import datetime"
      ],
      "metadata": {
        "id": "XE5EM1W15XIG",
        "colab": {
          "base_uri": "https://localhost:8080/"
        },
        "outputId": "7fdbdd78-634b-4382-b536-4618e62a629e"
      },
      "execution_count": 7,
      "outputs": [
        {
          "output_type": "stream",
          "name": "stdout",
          "text": [
            "Collecting mimesis\n",
            "  Downloading mimesis-18.0.0-py3-none-any.whl.metadata (5.7 kB)\n",
            "Downloading mimesis-18.0.0-py3-none-any.whl (4.7 MB)\n",
            "\u001b[2K   \u001b[90m━━━━━━━━━━━━━━━━━━━━━━━━━━━━━━━━━━━━━━━━\u001b[0m \u001b[32m4.7/4.7 MB\u001b[0m \u001b[31m32.2 MB/s\u001b[0m eta \u001b[36m0:00:00\u001b[0m\n",
            "\u001b[?25hInstalling collected packages: mimesis\n",
            "Successfully installed mimesis-18.0.0\n"
          ]
        }
      ]
    },
    {
      "cell_type": "code",
      "source": [
        "person = Person(\"en\")\n",
        "datetime_provider = Datetime()\n",
        "address = Address()\n",
        "transport = Transport()\n",
        "\n",
        "def generate_ride_request():\n",
        "    return {\n",
        "        \"request_id\": str(uuid.uuid4()),\n",
        "        \"passenger_id\": str(uuid.uuid4()),\n",
        "        \"pickup_lat\": address.latitude(),\n",
        "        \"pickup_lng\": address.longitude(),\n",
        "        \"destination_lat\": address.latitude(),\n",
        "        \"destination_lng\": address.longitude(),\n",
        "        \"ride_type\": random.choice([\"standard\", \"premium\", \"pool\"]),\n",
        "        \"status\": random.choice([\"requested\", \"cancelled\", \"accepted\", \"completed\"]),\n",
        "        \"estimate_price\": round(random.uniform(5, 50), 2),  # Price in USD\n",
        "        \"demand_level\": random.choice([\"high\", \"low\"]),\n",
        "        \"estimated_distance_km\": round(random.uniform(1, 20), 2),  # Distance in km\n",
        "        \"datetime\": datetime.now().isoformat()\n",
        "    }"
      ],
      "metadata": {
        "id": "lbZJiFIW5rd_"
      },
      "execution_count": 8,
      "outputs": []
    },
    {
      "cell_type": "code",
      "source": [
        "def generate_driver_status():\n",
        "    return {\n",
        "        \"driver_id\": str(uuid.uuid4()),\n",
        "        \"current_lat\": address.latitude(),\n",
        "        \"current_lng\": address.longitude(),\n",
        "        \"status\": random.choice([\"available\", \"en_route\", \"on_trip\", \"offline\"]),\n",
        "        \"vehicle_type\": random.choice([\"sedan\", \"SUV\", \"motorbike\", \"uber\", \"lyft\", \"cabify\"]),\n",
        "        \"timestamp\": datetime.now().isoformat()\n",
        "    }"
      ],
      "metadata": {
        "id": "BzHghoR05q6l"
      },
      "execution_count": 9,
      "outputs": []
    },
    {
      "cell_type": "code",
      "source": [
        "print(generate_ride_request())\n",
        "print(generate_driver_status())"
      ],
      "metadata": {
        "colab": {
          "base_uri": "https://localhost:8080/"
        },
        "id": "W2mrw0t85_qM",
        "outputId": "b3e6b110-0daf-4448-f453-fdda48d53b4e"
      },
      "execution_count": 10,
      "outputs": [
        {
          "output_type": "stream",
          "name": "stdout",
          "text": [
            "{'request_id': '8a5f1cb3-42b1-42e2-9124-59390164486f', 'passenger_id': '32a6be2e-5071-46c1-a81d-4a413189faee', 'pickup_lat': 29.191269, 'pickup_lng': -176.427245, 'destination_lat': -77.644042, 'destination_lng': 127.843473, 'ride_type': 'pool', 'status': 'cancelled', 'estimate_price': 44.49, 'demand_level': 'low', 'estimated_distance_km': 11.9, 'datetime': '2025-03-15T20:43:35.880240'}\n",
            "{'driver_id': '071cf0aa-fd02-4865-a240-4d8c98ecd462', 'current_lat': -7.792137, 'current_lng': 22.000094, 'status': 'available', 'vehicle_type': 'motorbike', 'timestamp': '2025-03-15T20:43:35.880632'}\n"
          ]
        }
      ]
    },
    {
      "cell_type": "markdown",
      "source": [
        "#Comparison between Faker and Mimesis:\n",
        "##Faker:\n",
        "\n",
        "*   Slower for large datasets.\n",
        "*   Supports multiple localizations.\n",
        "*   Specialized in general data types.\n",
        "\n",
        "##Mimesis:\n",
        "\n",
        "*   Optimized for performance.\n",
        "*   Better language & region support.\n",
        "*   More specialized data providers (transport, geolocation, etc)."
      ],
      "metadata": {
        "id": "0l7X5ei77Qnr"
      }
    },
    {
      "cell_type": "markdown",
      "source": [
        "#Saving the event data in JSON and AVRO formats"
      ],
      "metadata": {
        "id": "__Wb1qBgF1Du"
      }
    },
    {
      "cell_type": "code",
      "source": [
        "!pip install fastavro\n",
        "from mimesis import Person, Datetime, Address\n",
        "import json\n",
        "import fastavro\n",
        "import random\n",
        "import uuid\n",
        "from datetime import datetime\n",
        "\n",
        "#We're selecting Mimesis as our generator since it has the better performance and is more specialized\n",
        "\n",
        "person = Person(\"en\")\n",
        "datetime_provider = Datetime()\n",
        "address = Address()"
      ],
      "metadata": {
        "id": "1_3YOrG2Fz20",
        "colab": {
          "base_uri": "https://localhost:8080/"
        },
        "outputId": "50c803dd-1d21-4121-b886-db737c3614e7"
      },
      "execution_count": 11,
      "outputs": [
        {
          "output_type": "stream",
          "name": "stdout",
          "text": [
            "Collecting fastavro\n",
            "  Downloading fastavro-1.10.0-cp311-cp311-manylinux_2_17_x86_64.manylinux2014_x86_64.whl.metadata (5.5 kB)\n",
            "Downloading fastavro-1.10.0-cp311-cp311-manylinux_2_17_x86_64.manylinux2014_x86_64.whl (3.3 MB)\n",
            "\u001b[2K   \u001b[90m━━━━━━━━━━━━━━━━━━━━━━━━━━━━━━━━━━━━━━━━\u001b[0m \u001b[32m3.3/3.3 MB\u001b[0m \u001b[31m27.7 MB/s\u001b[0m eta \u001b[36m0:00:00\u001b[0m\n",
            "\u001b[?25hInstalling collected packages: fastavro\n",
            "Successfully installed fastavro-1.10.0\n"
          ]
        }
      ]
    },
    {
      "cell_type": "markdown",
      "source": [
        "##Ride Request Schema & Driver Update Schema"
      ],
      "metadata": {
        "id": "HY4u9zAxHQn2"
      }
    },
    {
      "cell_type": "code",
      "source": [
        "ride_request_schema = {\n",
        "    \"type\": \"record\",\n",
        "    \"name\": \"RideRequest\",\n",
        "    \"namespace\": \"com.ridehailing\",\n",
        "    \"fields\": [\n",
        "        {\"name\": \"request_id\", \"type\": \"string\"},\n",
        "        {\"name\": \"passenger_id\", \"type\": \"string\"},\n",
        "        {\"name\": \"pickup_lat\", \"type\": \"double\"},\n",
        "        {\"name\": \"pickup_lng\", \"type\": \"double\"},\n",
        "        {\"name\": \"destination_lat\", \"type\": \"double\"},\n",
        "        {\"name\": \"destination_lng\", \"type\": \"double\"},\n",
        "        {\"name\": \"ride_type\", \"type\": {\"type\": \"enum\", \"name\": \"RideType\", \"symbols\": [\"standard\", \"premium\", \"pool\"]}},\n",
        "        {\"name\": \"status\", \"type\": {\"type\": \"enum\", \"name\": \"RideStatus\", \"symbols\": [\"requested\", \"cancelled\", \"accepted\", \"completed\"]}},\n",
        "        {\"name\": \"estimate_price\", \"type\": \"double\"},\n",
        "        {\"name\": \"demand_level\", \"type\": {\"type\": \"enum\", \"name\": \"DemandLevel\", \"symbols\": [\"high\", \"low\"]}},\n",
        "        {\"name\": \"estimated_distance_km\", \"type\": \"double\"},\n",
        "        {\"name\": \"datetime\", \"type\": \"string\"}\n",
        "    ]\n",
        "}\n",
        "\n",
        "driver_status_schema = {\n",
        "    \"type\": \"record\",\n",
        "    \"name\": \"DriverStatus\",\n",
        "    \"namespace\": \"com.ridehailing\",\n",
        "    \"fields\": [\n",
        "        {\"name\": \"driver_id\", \"type\": \"string\"},\n",
        "        {\"name\": \"current_lat\", \"type\": \"double\"},\n",
        "        {\"name\": \"current_lng\", \"type\": \"double\"},\n",
        "        {\"name\": \"status\", \"type\": {\"type\": \"enum\", \"name\": \"DriverStatusEnum\", \"symbols\": [\"available\", \"en_route\", \"on_trip\", \"offline\"]}},\n",
        "        {\"name\": \"vehicle_type\", \"type\": {\"type\": \"enum\", \"name\": \"VehicleType\", \"symbols\": [\"sedan\", \"SUV\", \"motorbike\", \"uber\", \"lyft\", \"cabify\"]}},\n",
        "        {\"name\": \"timestamp\", \"type\": \"string\"}\n",
        "    ]\n",
        "}"
      ],
      "metadata": {
        "id": "qmbGw61qGZEE"
      },
      "execution_count": 12,
      "outputs": []
    },
    {
      "cell_type": "markdown",
      "source": [
        "##Ride Request code & Driver Update Code"
      ],
      "metadata": {
        "id": "sTuEjU7PHkFk"
      }
    },
    {
      "cell_type": "code",
      "source": [
        "def generate_ride_request():\n",
        "    return {\n",
        "        \"request_id\": str(uuid.uuid4()),\n",
        "        \"passenger_id\": str(uuid.uuid4()),\n",
        "        \"pickup_lat\": address.latitude(),\n",
        "        \"pickup_lng\": address.longitude(),\n",
        "        \"destination_lat\": address.latitude(),\n",
        "        \"destination_lng\": address.longitude(),\n",
        "        \"ride_type\": random.choice([\"standard\", \"premium\", \"pool\"]),\n",
        "        \"status\": random.choice([\"requested\", \"cancelled\", \"accepted\", \"completed\"]),\n",
        "        \"estimate_price\": round(random.uniform(5, 50), 2),\n",
        "        \"demand_level\": random.choice([\"high\", \"low\"]),\n",
        "        \"estimated_distance_km\": round(random.uniform(1, 20), 2),\n",
        "        \"datetime\": datetime.now().isoformat()\n",
        "    }\n",
        "\n",
        "def generate_driver_status():\n",
        "    return {\n",
        "        \"driver_id\": str(uuid.uuid4()),\n",
        "        \"current_lat\": address.latitude(),\n",
        "        \"current_lng\": address.longitude(),\n",
        "        \"status\": random.choice([\"available\", \"en_route\", \"on_trip\", \"offline\"]),\n",
        "        \"vehicle_type\": random.choice([\"sedan\", \"SUV\", \"motorbike\", \"uber\", \"lyft\", \"cabify\"]),\n",
        "        \"timestamp\": datetime.now().isoformat()\n",
        "    }"
      ],
      "metadata": {
        "id": "6XB48IH4HrJZ"
      },
      "execution_count": 13,
      "outputs": []
    },
    {
      "cell_type": "markdown",
      "source": [
        "##Saving the generated data into the AVRO files."
      ],
      "metadata": {
        "id": "X_7S4oOYH1j4"
      }
    },
    {
      "cell_type": "code",
      "source": [
        "def write_to_avro(file_name, schema, data):\n",
        "    with open(file_name, \"wb\") as out_file:\n",
        "        fastavro.writer(out_file, schema, data)\n",
        "\n",
        "# Generate and Save 100 Ride Requests\n",
        "ride_requests = [generate_ride_request() for _ in range(100)]\n",
        "write_to_avro(\"ride_requests.avro\", ride_request_schema, ride_requests)\n",
        "\n",
        "# Generate and Save 100 Driver Status Updates\n",
        "driver_updates = [generate_driver_status() for _ in range(100)]\n",
        "write_to_avro(\"driver_status.avro\", driver_status_schema, driver_updates)\n",
        "\n",
        "print(\"✅ Ride requests saved to ride_requests.avro\")\n",
        "print(\"✅ Driver status updates saved to driver_status.avro\")"
      ],
      "metadata": {
        "colab": {
          "base_uri": "https://localhost:8080/"
        },
        "id": "lfxARYdCH13v",
        "outputId": "1e436e1b-6470-416f-86cf-f760a17494aa"
      },
      "execution_count": 14,
      "outputs": [
        {
          "output_type": "stream",
          "name": "stdout",
          "text": [
            "✅ Ride requests saved to ride_requests.avro\n",
            "✅ Driver status updates saved to driver_status.avro\n"
          ]
        }
      ]
    },
    {
      "cell_type": "markdown",
      "source": [
        "Verifying that the data was written correctly"
      ],
      "metadata": {
        "id": "Ub9ZkbxqI4pL"
      }
    },
    {
      "cell_type": "code",
      "source": [
        "def read_avro(file_name):\n",
        "    with open(file_name, \"rb\") as avro_file:\n",
        "        reader = fastavro.reader(avro_file)\n",
        "        for record in reader:\n",
        "            print(record)\n",
        "            break  # Print only the first record\n",
        "\n",
        "# Verify Ride Requests\n",
        "read_avro(\"ride_requests.avro\")\n",
        "\n",
        "# Verify Driver Status Updates\n",
        "read_avro(\"driver_status.avro\")\n"
      ],
      "metadata": {
        "colab": {
          "base_uri": "https://localhost:8080/"
        },
        "id": "ehG1j8piJATV",
        "outputId": "fdc29dfd-83b9-4a63-8d5a-45f4edcc42b7"
      },
      "execution_count": 15,
      "outputs": [
        {
          "output_type": "stream",
          "name": "stdout",
          "text": [
            "{'request_id': '2f5f3823-e242-4123-bb74-5a3dfe76ce56', 'passenger_id': '2951ab24-8c59-4f2b-b1ac-bcad32506593', 'pickup_lat': -78.283998, 'pickup_lng': 127.482541, 'destination_lat': 82.529723, 'destination_lng': 172.109099, 'ride_type': 'pool', 'status': 'requested', 'estimate_price': 14.03, 'demand_level': 'high', 'estimated_distance_km': 10.91, 'datetime': '2025-03-15T20:43:49.267750'}\n",
            "{'driver_id': 'e3a4ff92-3851-4292-ac27-b81c723215da', 'current_lat': 82.453372, 'current_lng': 82.577779, 'status': 'offline', 'vehicle_type': 'cabify', 'timestamp': '2025-03-15T20:43:49.271462'}\n"
          ]
        }
      ]
    },
    {
      "cell_type": "markdown",
      "source": [
        "##Saving the generated data into the JSON files."
      ],
      "metadata": {
        "id": "6NbfQ4BmimUM"
      }
    },
    {
      "cell_type": "code",
      "source": [
        "import json\n",
        "\n",
        "# Function to Write Data to JSON File\n",
        "def write_to_json(file_name, data):\n",
        "    with open(file_name, \"w\") as json_file:\n",
        "        json.dump(data, json_file, indent=4)\n",
        "\n",
        "# Save Ride Requests Data to JSON\n",
        "write_to_json(\"ride_requests.json\", ride_requests)\n",
        "\n",
        "# Save Driver Status Data to JSON\n",
        "write_to_json(\"driver_status.json\", driver_updates)\n",
        "\n",
        "print(\"✅ Ride requests saved to ride_requests.json\")\n",
        "print(\"✅ Driver status updates saved to driver_status.json\")\n"
      ],
      "metadata": {
        "colab": {
          "base_uri": "https://localhost:8080/"
        },
        "id": "qECqTE0Ril7I",
        "outputId": "312d0e5a-8544-4c9f-df3c-5cab104f361d"
      },
      "execution_count": 16,
      "outputs": [
        {
          "output_type": "stream",
          "name": "stdout",
          "text": [
            "✅ Ride requests saved to ride_requests.json\n",
            "✅ Driver status updates saved to driver_status.json\n"
          ]
        }
      ]
    }
  ]
}